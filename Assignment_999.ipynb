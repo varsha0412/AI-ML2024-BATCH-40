{
  "nbformat": 4,
  "nbformat_minor": 0,
  "metadata": {
    "colab": {
      "provenance": []
    },
    "kernelspec": {
      "name": "python3",
      "display_name": "Python 3"
    },
    "language_info": {
      "name": "python"
    }
  },
  "cells": [
    {
      "cell_type": "code",
      "execution_count": 1,
      "metadata": {
        "id": "R6E1OnW4NbrE"
      },
      "outputs": [],
      "source": [
        "import pandas as pd\n",
        "import numpy as np\n",
        "import matplotlib.pyplot as plt\n",
        "import seaborn as sns\n",
        "from sklearn.model_selection import train_test_split\n",
        "from sklearn.ensemble import RandomForestClassifier\n",
        "from sklearn.metrics import confusion_matrix, classification_report\n",
        "from sklearn.preprocessing import LabelEncoder\n"
      ]
    },
    {
      "cell_type": "code",
      "source": [
        "data = pd.read_csv('loans_full_schema.csv')\n"
      ],
      "metadata": {
        "id": "6PoiUcf0N3mx"
      },
      "execution_count": 5,
      "outputs": []
    },
    {
      "cell_type": "code",
      "source": [
        "print(data.dtypes)\n"
      ],
      "metadata": {
        "colab": {
          "base_uri": "https://localhost:8080/"
        },
        "id": "DbYVT9-bOGSb",
        "outputId": "780b2974-da3c-4ba4-a60d-fa5627346b10"
      },
      "execution_count": 6,
      "outputs": [
        {
          "output_type": "stream",
          "name": "stdout",
          "text": [
            "emp_title                            object\n",
            "emp_length                          float64\n",
            "state                                object\n",
            "homeownership                        object\n",
            "annual_income                       float64\n",
            "verified_income                      object\n",
            "debt_to_income                      float64\n",
            "annual_income_joint                 float64\n",
            "verification_income_joint            object\n",
            "debt_to_income_joint                float64\n",
            "delinq_2y                             int64\n",
            "months_since_last_delinq            float64\n",
            "earliest_credit_line                  int64\n",
            "inquiries_last_12m                    int64\n",
            "total_credit_lines                    int64\n",
            "open_credit_lines                     int64\n",
            "total_credit_limit                    int64\n",
            "total_credit_utilized                 int64\n",
            "num_collections_last_12m              int64\n",
            "num_historical_failed_to_pay          int64\n",
            "months_since_90d_late               float64\n",
            "current_accounts_delinq               int64\n",
            "total_collection_amount_ever          int64\n",
            "current_installment_accounts          int64\n",
            "accounts_opened_24m                   int64\n",
            "months_since_last_credit_inquiry    float64\n",
            "num_satisfactory_accounts             int64\n",
            "num_accounts_120d_past_due          float64\n",
            "num_accounts_30d_past_due             int64\n",
            "num_active_debit_accounts             int64\n",
            "total_debit_limit                     int64\n",
            "num_total_cc_accounts                 int64\n",
            "num_open_cc_accounts                  int64\n",
            "num_cc_carrying_balance               int64\n",
            "num_mort_accounts                     int64\n",
            "account_never_delinq_percent        float64\n",
            "tax_liens                             int64\n",
            "public_record_bankrupt                int64\n",
            "loan_purpose                         object\n",
            "application_type                     object\n",
            "loan_amount                           int64\n",
            "term                                  int64\n",
            "interest_rate                       float64\n",
            "installment                         float64\n",
            "grade                                object\n",
            "sub_grade                            object\n",
            "issue_month                          object\n",
            "loan_status                          object\n",
            "initial_listing_status               object\n",
            "disbursement_method                  object\n",
            "balance                             float64\n",
            "paid_total                          float64\n",
            "paid_principal                      float64\n",
            "paid_interest                       float64\n",
            "paid_late_fees                      float64\n",
            "dtype: object\n"
          ]
        }
      ]
    },
    {
      "cell_type": "code",
      "source": [
        "print(data.describe(percentiles=[.25, .5, .75, .9]))\n"
      ],
      "metadata": {
        "colab": {
          "base_uri": "https://localhost:8080/"
        },
        "id": "xNLbZxrzOLGC",
        "outputId": "1aeebde2-95be-42be-c8f3-373269380e88"
      },
      "execution_count": 7,
      "outputs": [
        {
          "output_type": "stream",
          "name": "stdout",
          "text": [
            "        emp_length  annual_income  debt_to_income  annual_income_joint  \\\n",
            "count  3787.000000   4.114000e+03     4103.000000           594.000000   \n",
            "mean      5.897544   7.766468e+04       19.237826        124738.007694   \n",
            "std       3.714033   5.885030e+04       15.840700         61637.696793   \n",
            "min       0.000000   0.000000e+00        0.000000         27000.000000   \n",
            "25%       2.000000   4.500000e+04       11.005000         85625.000000   \n",
            "50%       6.000000   6.500000e+04       17.530000        112500.000000   \n",
            "75%      10.000000   9.300000e+04       24.860000        149875.000000   \n",
            "90%      10.000000   1.300000e+05       32.188000        187775.200000   \n",
            "max      10.000000   1.600001e+06      469.090000        620000.000000   \n",
            "\n",
            "       debt_to_income_joint    delinq_2y  months_since_last_delinq  \\\n",
            "count            594.000000  4114.000000               1754.000000   \n",
            "mean              19.804697     0.211716                 36.376283   \n",
            "std                7.846718     0.664218                 21.447313   \n",
            "min                0.920000     0.000000                  1.000000   \n",
            "25%               14.045000     0.000000                 19.000000   \n",
            "50%               19.870000     0.000000                 33.000000   \n",
            "75%               25.120000     0.000000                 52.000000   \n",
            "90%               30.154000     1.000000                 68.000000   \n",
            "max               39.790000    10.000000                102.000000   \n",
            "\n",
            "       earliest_credit_line  inquiries_last_12m  total_credit_lines  ...  \\\n",
            "count           4114.000000         4114.000000         4114.000000  ...   \n",
            "mean            2001.390617            1.947496           22.544968  ...   \n",
            "std                7.604995            2.366014           11.821327  ...   \n",
            "min             1967.000000            0.000000            2.000000  ...   \n",
            "25%             1998.000000            0.000000           14.000000  ...   \n",
            "50%             2003.000000            1.000000           21.000000  ...   \n",
            "75%             2006.000000            3.000000           29.000000  ...   \n",
            "90%             2010.000000            5.000000           38.000000  ...   \n",
            "max             2015.000000           22.000000           87.000000  ...   \n",
            "\n",
            "       public_record_bankrupt   loan_amount         term  interest_rate  \\\n",
            "count             4114.000000   4114.000000  4114.000000    4114.000000   \n",
            "mean                 0.125425  16131.787798    43.064657      12.361558   \n",
            "std                  0.339219  10264.143431    10.939446       5.005492   \n",
            "min                  0.000000   1000.000000    36.000000       5.310000   \n",
            "25%                  0.000000   8000.000000    36.000000       7.970000   \n",
            "50%                  0.000000  14000.000000    36.000000      11.980000   \n",
            "75%                  0.000000  22000.000000    60.000000      15.050000   \n",
            "90%                  1.000000  32000.000000    60.000000      19.030000   \n",
            "max                  3.000000  40000.000000    60.000000      30.940000   \n",
            "\n",
            "       installment       balance    paid_total  paid_principal  paid_interest  \\\n",
            "count  4114.000000   4113.000000   4113.000000     4113.000000    4113.000000   \n",
            "mean    470.991604  14279.548767   2419.463389     1835.817087     583.509655   \n",
            "std     294.850030   9906.391646   3842.831817     3761.421120     506.660261   \n",
            "min      30.750000      0.000000      0.000000        0.000000       0.000000   \n",
            "25%     252.820000   6646.860000    914.730000      580.160000     218.610000   \n",
            "50%     389.360000  11755.730000   1517.790000      965.170000     427.130000   \n",
            "75%     632.920000  19940.620000   2559.520000     1660.900000     796.870000   \n",
            "90%     903.520000  29693.554000   4019.374000     3000.000000    1285.424000   \n",
            "max    1531.050000  39115.840000  41630.443684    40000.000000    4206.180000   \n",
            "\n",
            "       paid_late_fees  \n",
            "count     4113.000000  \n",
            "mean         0.136647  \n",
            "std          1.996753  \n",
            "min          0.000000  \n",
            "25%          0.000000  \n",
            "50%          0.000000  \n",
            "75%          0.000000  \n",
            "90%          0.000000  \n",
            "max         45.120000  \n",
            "\n",
            "[9 rows x 42 columns]\n"
          ]
        }
      ]
    },
    {
      "cell_type": "code",
      "source": [
        "print(data.describe(percentiles=[.25, .5, .75, .9]))\n"
      ],
      "metadata": {
        "colab": {
          "base_uri": "https://localhost:8080/"
        },
        "id": "mkkdqhnNOOLX",
        "outputId": "93497600-23e1-45ae-e8b9-e59acabcc4b8"
      },
      "execution_count": 8,
      "outputs": [
        {
          "output_type": "stream",
          "name": "stdout",
          "text": [
            "        emp_length  annual_income  debt_to_income  annual_income_joint  \\\n",
            "count  3787.000000   4.114000e+03     4103.000000           594.000000   \n",
            "mean      5.897544   7.766468e+04       19.237826        124738.007694   \n",
            "std       3.714033   5.885030e+04       15.840700         61637.696793   \n",
            "min       0.000000   0.000000e+00        0.000000         27000.000000   \n",
            "25%       2.000000   4.500000e+04       11.005000         85625.000000   \n",
            "50%       6.000000   6.500000e+04       17.530000        112500.000000   \n",
            "75%      10.000000   9.300000e+04       24.860000        149875.000000   \n",
            "90%      10.000000   1.300000e+05       32.188000        187775.200000   \n",
            "max      10.000000   1.600001e+06      469.090000        620000.000000   \n",
            "\n",
            "       debt_to_income_joint    delinq_2y  months_since_last_delinq  \\\n",
            "count            594.000000  4114.000000               1754.000000   \n",
            "mean              19.804697     0.211716                 36.376283   \n",
            "std                7.846718     0.664218                 21.447313   \n",
            "min                0.920000     0.000000                  1.000000   \n",
            "25%               14.045000     0.000000                 19.000000   \n",
            "50%               19.870000     0.000000                 33.000000   \n",
            "75%               25.120000     0.000000                 52.000000   \n",
            "90%               30.154000     1.000000                 68.000000   \n",
            "max               39.790000    10.000000                102.000000   \n",
            "\n",
            "       earliest_credit_line  inquiries_last_12m  total_credit_lines  ...  \\\n",
            "count           4114.000000         4114.000000         4114.000000  ...   \n",
            "mean            2001.390617            1.947496           22.544968  ...   \n",
            "std                7.604995            2.366014           11.821327  ...   \n",
            "min             1967.000000            0.000000            2.000000  ...   \n",
            "25%             1998.000000            0.000000           14.000000  ...   \n",
            "50%             2003.000000            1.000000           21.000000  ...   \n",
            "75%             2006.000000            3.000000           29.000000  ...   \n",
            "90%             2010.000000            5.000000           38.000000  ...   \n",
            "max             2015.000000           22.000000           87.000000  ...   \n",
            "\n",
            "       public_record_bankrupt   loan_amount         term  interest_rate  \\\n",
            "count             4114.000000   4114.000000  4114.000000    4114.000000   \n",
            "mean                 0.125425  16131.787798    43.064657      12.361558   \n",
            "std                  0.339219  10264.143431    10.939446       5.005492   \n",
            "min                  0.000000   1000.000000    36.000000       5.310000   \n",
            "25%                  0.000000   8000.000000    36.000000       7.970000   \n",
            "50%                  0.000000  14000.000000    36.000000      11.980000   \n",
            "75%                  0.000000  22000.000000    60.000000      15.050000   \n",
            "90%                  1.000000  32000.000000    60.000000      19.030000   \n",
            "max                  3.000000  40000.000000    60.000000      30.940000   \n",
            "\n",
            "       installment       balance    paid_total  paid_principal  paid_interest  \\\n",
            "count  4114.000000   4113.000000   4113.000000     4113.000000    4113.000000   \n",
            "mean    470.991604  14279.548767   2419.463389     1835.817087     583.509655   \n",
            "std     294.850030   9906.391646   3842.831817     3761.421120     506.660261   \n",
            "min      30.750000      0.000000      0.000000        0.000000       0.000000   \n",
            "25%     252.820000   6646.860000    914.730000      580.160000     218.610000   \n",
            "50%     389.360000  11755.730000   1517.790000      965.170000     427.130000   \n",
            "75%     632.920000  19940.620000   2559.520000     1660.900000     796.870000   \n",
            "90%     903.520000  29693.554000   4019.374000     3000.000000    1285.424000   \n",
            "max    1531.050000  39115.840000  41630.443684    40000.000000    4206.180000   \n",
            "\n",
            "       paid_late_fees  \n",
            "count     4113.000000  \n",
            "mean         0.136647  \n",
            "std          1.996753  \n",
            "min          0.000000  \n",
            "25%          0.000000  \n",
            "50%          0.000000  \n",
            "75%          0.000000  \n",
            "90%          0.000000  \n",
            "max         45.120000  \n",
            "\n",
            "[9 rows x 42 columns]\n"
          ]
        }
      ]
    },
    {
      "cell_type": "code",
      "source": [
        "print(data.columns)\n"
      ],
      "metadata": {
        "colab": {
          "base_uri": "https://localhost:8080/"
        },
        "id": "c4C-l7apOak2",
        "outputId": "48ba896d-8421-4d46-f945-ac8a9b3ab1de"
      },
      "execution_count": 9,
      "outputs": [
        {
          "output_type": "stream",
          "name": "stdout",
          "text": [
            "Index(['emp_title', 'emp_length', 'state', 'homeownership', 'annual_income',\n",
            "       'verified_income', 'debt_to_income', 'annual_income_joint',\n",
            "       'verification_income_joint', 'debt_to_income_joint', 'delinq_2y',\n",
            "       'months_since_last_delinq', 'earliest_credit_line',\n",
            "       'inquiries_last_12m', 'total_credit_lines', 'open_credit_lines',\n",
            "       'total_credit_limit', 'total_credit_utilized',\n",
            "       'num_collections_last_12m', 'num_historical_failed_to_pay',\n",
            "       'months_since_90d_late', 'current_accounts_delinq',\n",
            "       'total_collection_amount_ever', 'current_installment_accounts',\n",
            "       'accounts_opened_24m', 'months_since_last_credit_inquiry',\n",
            "       'num_satisfactory_accounts', 'num_accounts_120d_past_due',\n",
            "       'num_accounts_30d_past_due', 'num_active_debit_accounts',\n",
            "       'total_debit_limit', 'num_total_cc_accounts', 'num_open_cc_accounts',\n",
            "       'num_cc_carrying_balance', 'num_mort_accounts',\n",
            "       'account_never_delinq_percent', 'tax_liens', 'public_record_bankrupt',\n",
            "       'loan_purpose', 'application_type', 'loan_amount', 'term',\n",
            "       'interest_rate', 'installment', 'grade', 'sub_grade', 'issue_month',\n",
            "       'loan_status', 'initial_listing_status', 'disbursement_method',\n",
            "       'balance', 'paid_total', 'paid_principal', 'paid_interest',\n",
            "       'paid_late_fees'],\n",
            "      dtype='object')\n"
          ]
        }
      ]
    }
  ]
}