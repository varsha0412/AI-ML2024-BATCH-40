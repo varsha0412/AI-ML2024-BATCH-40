{
  "nbformat": 4,
  "nbformat_minor": 0,
  "metadata": {
    "colab": {
      "provenance": []
    },
    "kernelspec": {
      "name": "python3",
      "display_name": "Python 3"
    },
    "language_info": {
      "name": "python"
    }
  },
  "cells": [
    {
      "cell_type": "code",
      "execution_count": 1,
      "metadata": {
        "colab": {
          "base_uri": "https://localhost:8080/"
        },
        "id": "fN4a2MnI5u8n",
        "outputId": "bc374cfe-a8d0-4322-e08d-5ea4fbad0533"
      },
      "outputs": [
        {
          "output_type": "stream",
          "name": "stdout",
          "text": [
            "Minimum value:  10\n",
            "Maximum value:  36\n"
          ]
        }
      ],
      "source": [
        "game_tree = {\n",
        "    \"A\": {\n",
        "        \"MAX Player\": {\n",
        "            \"B\": {\n",
        "                \"MIN Player\": [12, 10]\n",
        "            },\n",
        "            \"C\": {\n",
        "                \"MIN Player\": [36, 25]\n",
        "            }\n",
        "        }\n",
        "    }\n",
        "}\n",
        "\n",
        "# Find the minimum and maximum values for each player\n",
        "all_values = []\n",
        "\n",
        "for max_player_node in game_tree[\"A\"][\"MAX Player\"].values():\n",
        "    all_values.extend(max_player_node[\"MIN Player\"])\n",
        "\n",
        "# The minimum and maximum values across all nodes\n",
        "min_value = min(all_values)\n",
        "max_value = max(all_values)\n",
        "\n",
        "print(\"Minimum value: \", min_value)\n",
        "print(\"Maximum value: \", max_value)"
      ]
    }
  ]
}